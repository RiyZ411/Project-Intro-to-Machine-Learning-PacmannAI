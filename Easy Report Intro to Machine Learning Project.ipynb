{
 "cells": [
  {
   "attachments": {},
   "cell_type": "markdown",
   "metadata": {},
   "source": [
    "# Easy Report Intro to Machine Learning Project\n",
    "- Nama = Riyan Zaenal Arifin\n",
    "- Email = riyanzaenal411@gmail.com"
   ]
  },
  {
   "attachments": {},
   "cell_type": "markdown",
   "metadata": {},
   "source": [
    "## Intoduction"
   ]
  },
  {
   "attachments": {},
   "cell_type": "markdown",
   "metadata": {},
   "source": [
    "Pecemaran udara meupakan hal yang lumrah di kota besar seperti di Jakarta untuk saat ini. Polusi udara di Jakarta disebabkan karena banyaknya penduduk yang masih mengandalkan transportasi berbahan bakar fosil dalam berpergian. Selain itu, polusi udara juga disebabkan oleh pabrik-pabrik di sekitar Jakarta, sehingga polusi udara di Jakarta semakin parah. Bahkan Jakarta masuk dalam kota yang memilki tingkat polusi udara paling tinggi di dunia. Sehingga penulis termotivasi untuk membantu untuk memprediksi kondisi udara melalui beberapa kriteria menggunakan model machine leraning, lalu model machine learning dapat memprediksi kondisi udara, apakah baik atau tidak baik. Untuk model machine learning yang digunakan adalah KNN. Sebelum pemodelan machine learning juga dilakukan proses preprocessing, feature engineering, label encoder, balancing data menggunakan over sampling, dan lain-lain, sehingga bisa diperoleh model yang optimal. Dengan begitu, model machine learning tersebut bisa diaplikasikan untuk memudahkan dalam mengetahui kondisi udara di jakarta, sehingga dapat diperoleh untuk pengambilan keputusan yang lebih lanjut dari pihak pemerintah dalam menangani polusi udara di Jakarta."
   ]
  },
  {
   "attachments": {},
   "cell_type": "markdown",
   "metadata": {},
   "source": [
    "## Related Work\n",
    "\n",
    "- https://journal.universitasmulia.ac.id/index.php/metik/article/view/343\n",
    "\n",
    "    Data relatif sangat sedikit, yakni hanya 25 saja. Tidak dijelaskan dalam proses preprocessing data. Selain itu tidak dijelaskan features nya apa saja dan pemabgian data training dan validationnya. Tahap deployment menggunakan framework django sudah sesuai.\n",
    "- https://jurnal-backup.kaputama.ac.id/index.php/JTIK/article/view/790\n",
    "\n",
    "    Tidak dijelaskan jumlah, features dan sumber datanya. Menggunakan cross validation, tetapi akurasi tidak dirata-ratakan dari berapa kali percobaan K-Fold, hanya diambil nilai akurasi tertinggi. Tidak diketahui akurasi data training, sehingga tidak bisa dipastikan apakah model overfiting atau tidak.\n",
    "- https://www.jurnal.yoctobrain.org/index.php/ijodas/article/view/11\n",
    "\n",
    "    Tidak dijelaskan features dan sumber datanya. Tidak dijelaskan tahap preprocessingnya. Jumlah data terlalu sedikit dan hasil evaluasi kurang bagus menandakan model underfiting. Selain itu juga dijelaskan pemahaman mengenai evaluasi model\n",
    "- https://ejournal.bsi.ac.id/ejurnal/index.php/evolusi/article/view/12514/5403\n",
    "\n",
    "    Tidak diketahui pasti terkait sumber datanya. Penjelasan terkait perhitungan jarak tetangga KNN hanya euclidean distance saja. Selebihnya juga sudah bagus. Terdapat perbadningan evaluasi data training dan data validation\n",
    "- https://jurnal.umk.ac.id/index.php/simet/article/view/2882\n",
    "\n",
    "    Jumlah data relatif banyak, sampai puluhan ribu. Hampir keseluruhan sudah baik. Menggunakan cross validation, tetapi tidak diketahu hasil evaluasi data validation, sehingga tidak diketahui apakah model mengalami overfiting atau tidak."
   ]
  },
  {
   "attachments": {},
   "cell_type": "markdown",
   "metadata": {},
   "source": [
    "## Dataset and Features"
   ]
  },
  {
   "attachments": {},
   "cell_type": "markdown",
   "metadata": {},
   "source": [
    "Dataset yang digunakan berisi mengenai Indeks Standar Pencemar Udara (ISPU) yang diukur dari 5 stasiun pemantau kualitas udara (SPKU) yang ada di Provinsi DKI Jakarta Tahun 2021 Penjelasan features dari dataset sebagai berikut : \n",
    "- tanggal : Tanggal pengukuran kualitas udara \n",
    "- pm10 : Partikulat salah satu parameter yang diukur \n",
    "- pm25 : Partikulat salah satu parameter yang diukur \n",
    "- so2 : Sulfida (dalam bentuk SO2) salah satu parameter yang diukur \n",
    "- co : Carbon Monoksida salah satu parameter yand diukur \n",
    "- o3 : Ozon salah satu parameter yang diukur \n",
    "- no2 : NItrogen dioksida salah satu parameter yang diukur \n",
    "- max : Nilai ukur paling tinggi dari seluruh parameter yang diukur dalam waktu yang sama \n",
    "- critical : Parameter yang hasil pengukurannya paling tinggi \n",
    "- categori : Kategori hasil perhitungan indeks standar pencemaran udara \n",
    "- location : Kode lokasi\n",
    "\n",
    "Data Source : https://data.jakarta.go.id/dataset/indeks-standar-pencemaran-udara-ispu-tahun-2021\n",
    "\n",
    "Berikut langkah-langkah dalam prerpocessing data :"
   ]
  },
  {
   "cell_type": "code",
   "execution_count": 309,
   "metadata": {},
   "outputs": [],
   "source": [
    "import pandas as pd \n",
    "import numpy as np\n",
    "from sklearn.metrics import confusion_matrix\n",
    "from sklearn import preprocessing\n",
    "from sklearn.neighbors import KNeighborsClassifier\n",
    "from sklearn.metrics import accuracy_score, precision_score, recall_score, f1_score\n",
    "import matplotlib.pyplot as plt\n",
    "import seaborn as sns\n",
    "from sklearn.metrics import classification_report\n",
    "from sklearn.model_selection import train_test_split\n",
    "from imblearn.over_sampling import SMOTE\n",
    "%matplotlib inline"
   ]
  },
  {
   "cell_type": "code",
   "execution_count": 308,
   "metadata": {},
   "outputs": [
    {
     "data": {
      "text/html": [
       "<div>\n",
       "<style scoped>\n",
       "    .dataframe tbody tr th:only-of-type {\n",
       "        vertical-align: middle;\n",
       "    }\n",
       "\n",
       "    .dataframe tbody tr th {\n",
       "        vertical-align: top;\n",
       "    }\n",
       "\n",
       "    .dataframe thead th {\n",
       "        text-align: right;\n",
       "    }\n",
       "</style>\n",
       "<table border=\"1\" class=\"dataframe\">\n",
       "  <thead>\n",
       "    <tr style=\"text-align: right;\">\n",
       "      <th></th>\n",
       "      <th>tanggal</th>\n",
       "      <th>stasiun</th>\n",
       "      <th>pm10</th>\n",
       "      <th>pm25</th>\n",
       "      <th>so2</th>\n",
       "      <th>co</th>\n",
       "      <th>o3</th>\n",
       "      <th>no2</th>\n",
       "      <th>max</th>\n",
       "      <th>critical</th>\n",
       "      <th>categori</th>\n",
       "    </tr>\n",
       "  </thead>\n",
       "  <tbody>\n",
       "    <tr>\n",
       "      <th>0</th>\n",
       "      <td>2021-01-01</td>\n",
       "      <td>DKI1 (Bunderan HI)</td>\n",
       "      <td>38</td>\n",
       "      <td>53</td>\n",
       "      <td>29</td>\n",
       "      <td>6</td>\n",
       "      <td>31</td>\n",
       "      <td>13</td>\n",
       "      <td>53</td>\n",
       "      <td>PM25</td>\n",
       "      <td>SEDANG</td>\n",
       "    </tr>\n",
       "    <tr>\n",
       "      <th>1</th>\n",
       "      <td>2021-01-02</td>\n",
       "      <td>DKI1 (Bunderan HI)</td>\n",
       "      <td>27</td>\n",
       "      <td>46</td>\n",
       "      <td>27</td>\n",
       "      <td>7</td>\n",
       "      <td>47</td>\n",
       "      <td>7</td>\n",
       "      <td>47</td>\n",
       "      <td>O3</td>\n",
       "      <td>BAIK</td>\n",
       "    </tr>\n",
       "    <tr>\n",
       "      <th>2</th>\n",
       "      <td>2021-01-03</td>\n",
       "      <td>DKI1 (Bunderan HI)</td>\n",
       "      <td>44</td>\n",
       "      <td>58</td>\n",
       "      <td>25</td>\n",
       "      <td>7</td>\n",
       "      <td>40</td>\n",
       "      <td>13</td>\n",
       "      <td>58</td>\n",
       "      <td>PM25</td>\n",
       "      <td>SEDANG</td>\n",
       "    </tr>\n",
       "    <tr>\n",
       "      <th>3</th>\n",
       "      <td>2021-01-04</td>\n",
       "      <td>DKI1 (Bunderan HI)</td>\n",
       "      <td>30</td>\n",
       "      <td>48</td>\n",
       "      <td>24</td>\n",
       "      <td>4</td>\n",
       "      <td>32</td>\n",
       "      <td>7</td>\n",
       "      <td>48</td>\n",
       "      <td>PM25</td>\n",
       "      <td>BAIK</td>\n",
       "    </tr>\n",
       "    <tr>\n",
       "      <th>4</th>\n",
       "      <td>2021-01-05</td>\n",
       "      <td>DKI1 (Bunderan HI)</td>\n",
       "      <td>38</td>\n",
       "      <td>53</td>\n",
       "      <td>24</td>\n",
       "      <td>6</td>\n",
       "      <td>31</td>\n",
       "      <td>9</td>\n",
       "      <td>53</td>\n",
       "      <td>PM25</td>\n",
       "      <td>SEDANG</td>\n",
       "    </tr>\n",
       "    <tr>\n",
       "      <th>...</th>\n",
       "      <td>...</td>\n",
       "      <td>...</td>\n",
       "      <td>...</td>\n",
       "      <td>...</td>\n",
       "      <td>...</td>\n",
       "      <td>...</td>\n",
       "      <td>...</td>\n",
       "      <td>...</td>\n",
       "      <td>...</td>\n",
       "      <td>...</td>\n",
       "      <td>...</td>\n",
       "    </tr>\n",
       "    <tr>\n",
       "      <th>150</th>\n",
       "      <td>2021-12-27</td>\n",
       "      <td>DKI5 (Kebon Jeruk) Jakarta Barat</td>\n",
       "      <td>54</td>\n",
       "      <td>76</td>\n",
       "      <td>36</td>\n",
       "      <td>14</td>\n",
       "      <td>21</td>\n",
       "      <td>47</td>\n",
       "      <td>76</td>\n",
       "      <td>PM25</td>\n",
       "      <td>SEDANG</td>\n",
       "    </tr>\n",
       "    <tr>\n",
       "      <th>151</th>\n",
       "      <td>2021-12-28</td>\n",
       "      <td>DKI5 (Kebon Jeruk) Jakarta Barat</td>\n",
       "      <td>44</td>\n",
       "      <td>68</td>\n",
       "      <td>20</td>\n",
       "      <td>11</td>\n",
       "      <td>21</td>\n",
       "      <td>33</td>\n",
       "      <td>68</td>\n",
       "      <td>PM25</td>\n",
       "      <td>SEDANG</td>\n",
       "    </tr>\n",
       "    <tr>\n",
       "      <th>152</th>\n",
       "      <td>2021-12-29</td>\n",
       "      <td>DKI5 (Kebon Jeruk) Jakarta Barat</td>\n",
       "      <td>34</td>\n",
       "      <td>54</td>\n",
       "      <td>28</td>\n",
       "      <td>8</td>\n",
       "      <td>25</td>\n",
       "      <td>29</td>\n",
       "      <td>54</td>\n",
       "      <td>PM25</td>\n",
       "      <td>SEDANG</td>\n",
       "    </tr>\n",
       "    <tr>\n",
       "      <th>153</th>\n",
       "      <td>2021-12-30</td>\n",
       "      <td>DKI5 (Kebon Jeruk) Jakarta Barat</td>\n",
       "      <td>53</td>\n",
       "      <td>75</td>\n",
       "      <td>25</td>\n",
       "      <td>15</td>\n",
       "      <td>23</td>\n",
       "      <td>44</td>\n",
       "      <td>75</td>\n",
       "      <td>PM25</td>\n",
       "      <td>SEDANG</td>\n",
       "    </tr>\n",
       "    <tr>\n",
       "      <th>154</th>\n",
       "      <td>2021-12-31</td>\n",
       "      <td>DKI5 (Kebon Jeruk) Jakarta Barat</td>\n",
       "      <td>60</td>\n",
       "      <td>87</td>\n",
       "      <td>28</td>\n",
       "      <td>19</td>\n",
       "      <td>30</td>\n",
       "      <td>53</td>\n",
       "      <td>87</td>\n",
       "      <td>PM25</td>\n",
       "      <td>SEDANG</td>\n",
       "    </tr>\n",
       "  </tbody>\n",
       "</table>\n",
       "<p>1825 rows × 11 columns</p>\n",
       "</div>"
      ],
      "text/plain": [
       "        tanggal                           stasiun pm10 pm25 so2  co  o3 no2  \\\n",
       "0    2021-01-01                DKI1 (Bunderan HI)   38   53  29   6  31  13   \n",
       "1    2021-01-02                DKI1 (Bunderan HI)   27   46  27   7  47   7   \n",
       "2    2021-01-03                DKI1 (Bunderan HI)   44   58  25   7  40  13   \n",
       "3    2021-01-04                DKI1 (Bunderan HI)   30   48  24   4  32   7   \n",
       "4    2021-01-05                DKI1 (Bunderan HI)   38   53  24   6  31   9   \n",
       "..          ...                               ...  ...  ...  ..  ..  ..  ..   \n",
       "150  2021-12-27  DKI5 (Kebon Jeruk) Jakarta Barat   54   76  36  14  21  47   \n",
       "151  2021-12-28  DKI5 (Kebon Jeruk) Jakarta Barat   44   68  20  11  21  33   \n",
       "152  2021-12-29  DKI5 (Kebon Jeruk) Jakarta Barat   34   54  28   8  25  29   \n",
       "153  2021-12-30  DKI5 (Kebon Jeruk) Jakarta Barat   53   75  25  15  23  44   \n",
       "154  2021-12-31  DKI5 (Kebon Jeruk) Jakarta Barat   60   87  28  19  30  53   \n",
       "\n",
       "    max critical categori  \n",
       "0    53     PM25   SEDANG  \n",
       "1    47       O3     BAIK  \n",
       "2    58     PM25   SEDANG  \n",
       "3    48     PM25     BAIK  \n",
       "4    53     PM25   SEDANG  \n",
       "..   ..      ...      ...  \n",
       "150  76     PM25   SEDANG  \n",
       "151  68     PM25   SEDANG  \n",
       "152  54     PM25   SEDANG  \n",
       "153  75     PM25   SEDANG  \n",
       "154  87     PM25   SEDANG  \n",
       "\n",
       "[1825 rows x 11 columns]"
      ]
     },
     "execution_count": 308,
     "metadata": {},
     "output_type": "execute_result"
    }
   ],
   "source": [
    "#import dataset\n",
    "df_jan = pd.read_csv('/home/riyan/IntroML/Dataset/indeks-standar-pencemar-udara-di-spku-bulan-januari-tahun-2021.csv')\n",
    "df_feb = pd.read_csv('/home/riyan/IntroML/Dataset/indeks-standar-pencemar-udara-di-spku-bulan-februari-tahun-2021.csv')\n",
    "df_mar = pd.read_csv('/home/riyan/IntroML/Dataset/indeks-standar-pencemar-udara-di-spku-bulan-maret-tahun-2021.csv')\n",
    "df_apr = pd.read_csv('/home/riyan/IntroML/Dataset/indeks-standar-pencemar-udara-di-spku-bulan-april-tahun-2021.csv')\n",
    "df_mei = pd.read_csv('/home/riyan/IntroML/Dataset/indeks-standar-pencemar-udara-di-spku-bulan-mei-tahun-2021.csv')\n",
    "df_juni = pd.read_csv('/home/riyan/IntroML/Dataset/indeks-standar-pencemar-udara-di-spku-bulan-juni-tahun-2021.csv')\n",
    "df_juli = pd.read_csv('/home/riyan/IntroML/Dataset/indeks-standar-pencemar-udara-di-spku-bulan-juli-tahun-2021.csv')\n",
    "df_agust = pd.read_csv('/home/riyan/IntroML/Dataset/indeks-standar-pencemar-udara-di-spku-bulan-agustus-tahun-2021.csv')\n",
    "df_sept = pd.read_csv('/home/riyan/IntroML/Dataset/indeks-standar-pencemar-udara-di-spku-bulan-september-tahun-2021.csv')\n",
    "df_okto = pd.read_csv('/home/riyan/IntroML/Dataset/indeks-standar-pencemar-udara-di-spku-bulan-oktober-tahun-2021.csv')\n",
    "df_nov = pd.read_csv('/home/riyan/IntroML/Dataset/indeks-standar-pencemar-udara-di-spku-bulan-november-tahun-2021.csv')\n",
    "df_desm  = pd.read_csv('/home/riyan/IntroML/Dataset/indeks-standar-pencemar-udara-di-spku-bulan-desember-tahun-2021.csv')\n",
    "\n",
    "#integrate column name juni and juli\n",
    "df_juni.columns = df_desm.columns\n",
    "df_juli.columns = df_desm.columns\n",
    "\n",
    "#concate dataset\n",
    "dataset = pd.concat([df_jan, df_feb, df_mar, df_apr, df_mei,df_juni,df_juli,df_agust,df_sept,df_okto,df_nov,df_desm])\n",
    "dataset\n",
    "\n"
   ]
  },
  {
   "attachments": {},
   "cell_type": "markdown",
   "metadata": {},
   "source": [
    "### Preprocessing data"
   ]
  },
  {
   "attachments": {},
   "cell_type": "markdown",
   "metadata": {},
   "source": [
    "#### Normalisasi data"
   ]
  },
  {
   "cell_type": "code",
   "execution_count": 310,
   "metadata": {},
   "outputs": [
    {
     "data": {
      "text/plain": [
       "categori\n",
       "SEDANG            1349\n",
       "TIDAK SEHAT        272\n",
       "BAIK               187\n",
       "TIDAK ADA DATA      16\n",
       "Name: count, dtype: int64"
      ]
     },
     "execution_count": 310,
     "metadata": {},
     "output_type": "execute_result"
    }
   ],
   "source": [
    "dataset['categori'].value_counts()"
   ]
  },
  {
   "cell_type": "code",
   "execution_count": 311,
   "metadata": {},
   "outputs": [
    {
     "data": {
      "text/plain": [
       "categori\n",
       "BAIK              1536\n",
       "TIDAK SEHAT        272\n",
       "TIDAK ADA DATA      16\n",
       "Name: count, dtype: int64"
      ]
     },
     "execution_count": 311,
     "metadata": {},
     "output_type": "execute_result"
    }
   ],
   "source": [
    "#rename value SEDANG to BAIK in column categori\n",
    "dataset['categori'] = dataset['categori'].replace(['SEDANG'], 'BAIK')\n",
    "dataset['categori'].value_counts()"
   ]
  },
  {
   "attachments": {},
   "cell_type": "markdown",
   "metadata": {},
   "source": [
    "#### Feature Enginnering"
   ]
  },
  {
   "attachments": {},
   "cell_type": "markdown",
   "metadata": {},
   "source": [
    "Data tanggal tidak digunakan dalam kasus klasifikasi, sehingga bisa dihapus"
   ]
  },
  {
   "cell_type": "code",
   "execution_count": 312,
   "metadata": {},
   "outputs": [
    {
     "data": {
      "text/html": [
       "<div>\n",
       "<style scoped>\n",
       "    .dataframe tbody tr th:only-of-type {\n",
       "        vertical-align: middle;\n",
       "    }\n",
       "\n",
       "    .dataframe tbody tr th {\n",
       "        vertical-align: top;\n",
       "    }\n",
       "\n",
       "    .dataframe thead th {\n",
       "        text-align: right;\n",
       "    }\n",
       "</style>\n",
       "<table border=\"1\" class=\"dataframe\">\n",
       "  <thead>\n",
       "    <tr style=\"text-align: right;\">\n",
       "      <th></th>\n",
       "      <th>stasiun</th>\n",
       "      <th>pm10</th>\n",
       "      <th>pm25</th>\n",
       "      <th>so2</th>\n",
       "      <th>co</th>\n",
       "      <th>o3</th>\n",
       "      <th>no2</th>\n",
       "      <th>max</th>\n",
       "      <th>critical</th>\n",
       "      <th>categori</th>\n",
       "    </tr>\n",
       "  </thead>\n",
       "  <tbody>\n",
       "    <tr>\n",
       "      <th>0</th>\n",
       "      <td>DKI1 (Bunderan HI)</td>\n",
       "      <td>38</td>\n",
       "      <td>53</td>\n",
       "      <td>29</td>\n",
       "      <td>6</td>\n",
       "      <td>31</td>\n",
       "      <td>13</td>\n",
       "      <td>53</td>\n",
       "      <td>PM25</td>\n",
       "      <td>BAIK</td>\n",
       "    </tr>\n",
       "    <tr>\n",
       "      <th>1</th>\n",
       "      <td>DKI1 (Bunderan HI)</td>\n",
       "      <td>27</td>\n",
       "      <td>46</td>\n",
       "      <td>27</td>\n",
       "      <td>7</td>\n",
       "      <td>47</td>\n",
       "      <td>7</td>\n",
       "      <td>47</td>\n",
       "      <td>O3</td>\n",
       "      <td>BAIK</td>\n",
       "    </tr>\n",
       "    <tr>\n",
       "      <th>2</th>\n",
       "      <td>DKI1 (Bunderan HI)</td>\n",
       "      <td>44</td>\n",
       "      <td>58</td>\n",
       "      <td>25</td>\n",
       "      <td>7</td>\n",
       "      <td>40</td>\n",
       "      <td>13</td>\n",
       "      <td>58</td>\n",
       "      <td>PM25</td>\n",
       "      <td>BAIK</td>\n",
       "    </tr>\n",
       "    <tr>\n",
       "      <th>3</th>\n",
       "      <td>DKI1 (Bunderan HI)</td>\n",
       "      <td>30</td>\n",
       "      <td>48</td>\n",
       "      <td>24</td>\n",
       "      <td>4</td>\n",
       "      <td>32</td>\n",
       "      <td>7</td>\n",
       "      <td>48</td>\n",
       "      <td>PM25</td>\n",
       "      <td>BAIK</td>\n",
       "    </tr>\n",
       "    <tr>\n",
       "      <th>4</th>\n",
       "      <td>DKI1 (Bunderan HI)</td>\n",
       "      <td>38</td>\n",
       "      <td>53</td>\n",
       "      <td>24</td>\n",
       "      <td>6</td>\n",
       "      <td>31</td>\n",
       "      <td>9</td>\n",
       "      <td>53</td>\n",
       "      <td>PM25</td>\n",
       "      <td>BAIK</td>\n",
       "    </tr>\n",
       "    <tr>\n",
       "      <th>...</th>\n",
       "      <td>...</td>\n",
       "      <td>...</td>\n",
       "      <td>...</td>\n",
       "      <td>...</td>\n",
       "      <td>...</td>\n",
       "      <td>...</td>\n",
       "      <td>...</td>\n",
       "      <td>...</td>\n",
       "      <td>...</td>\n",
       "      <td>...</td>\n",
       "    </tr>\n",
       "    <tr>\n",
       "      <th>150</th>\n",
       "      <td>DKI5 (Kebon Jeruk) Jakarta Barat</td>\n",
       "      <td>54</td>\n",
       "      <td>76</td>\n",
       "      <td>36</td>\n",
       "      <td>14</td>\n",
       "      <td>21</td>\n",
       "      <td>47</td>\n",
       "      <td>76</td>\n",
       "      <td>PM25</td>\n",
       "      <td>BAIK</td>\n",
       "    </tr>\n",
       "    <tr>\n",
       "      <th>151</th>\n",
       "      <td>DKI5 (Kebon Jeruk) Jakarta Barat</td>\n",
       "      <td>44</td>\n",
       "      <td>68</td>\n",
       "      <td>20</td>\n",
       "      <td>11</td>\n",
       "      <td>21</td>\n",
       "      <td>33</td>\n",
       "      <td>68</td>\n",
       "      <td>PM25</td>\n",
       "      <td>BAIK</td>\n",
       "    </tr>\n",
       "    <tr>\n",
       "      <th>152</th>\n",
       "      <td>DKI5 (Kebon Jeruk) Jakarta Barat</td>\n",
       "      <td>34</td>\n",
       "      <td>54</td>\n",
       "      <td>28</td>\n",
       "      <td>8</td>\n",
       "      <td>25</td>\n",
       "      <td>29</td>\n",
       "      <td>54</td>\n",
       "      <td>PM25</td>\n",
       "      <td>BAIK</td>\n",
       "    </tr>\n",
       "    <tr>\n",
       "      <th>153</th>\n",
       "      <td>DKI5 (Kebon Jeruk) Jakarta Barat</td>\n",
       "      <td>53</td>\n",
       "      <td>75</td>\n",
       "      <td>25</td>\n",
       "      <td>15</td>\n",
       "      <td>23</td>\n",
       "      <td>44</td>\n",
       "      <td>75</td>\n",
       "      <td>PM25</td>\n",
       "      <td>BAIK</td>\n",
       "    </tr>\n",
       "    <tr>\n",
       "      <th>154</th>\n",
       "      <td>DKI5 (Kebon Jeruk) Jakarta Barat</td>\n",
       "      <td>60</td>\n",
       "      <td>87</td>\n",
       "      <td>28</td>\n",
       "      <td>19</td>\n",
       "      <td>30</td>\n",
       "      <td>53</td>\n",
       "      <td>87</td>\n",
       "      <td>PM25</td>\n",
       "      <td>BAIK</td>\n",
       "    </tr>\n",
       "  </tbody>\n",
       "</table>\n",
       "<p>1825 rows × 10 columns</p>\n",
       "</div>"
      ],
      "text/plain": [
       "                              stasiun pm10 pm25 so2  co  o3 no2 max critical  \\\n",
       "0                  DKI1 (Bunderan HI)   38   53  29   6  31  13  53     PM25   \n",
       "1                  DKI1 (Bunderan HI)   27   46  27   7  47   7  47       O3   \n",
       "2                  DKI1 (Bunderan HI)   44   58  25   7  40  13  58     PM25   \n",
       "3                  DKI1 (Bunderan HI)   30   48  24   4  32   7  48     PM25   \n",
       "4                  DKI1 (Bunderan HI)   38   53  24   6  31   9  53     PM25   \n",
       "..                                ...  ...  ...  ..  ..  ..  ..  ..      ...   \n",
       "150  DKI5 (Kebon Jeruk) Jakarta Barat   54   76  36  14  21  47  76     PM25   \n",
       "151  DKI5 (Kebon Jeruk) Jakarta Barat   44   68  20  11  21  33  68     PM25   \n",
       "152  DKI5 (Kebon Jeruk) Jakarta Barat   34   54  28   8  25  29  54     PM25   \n",
       "153  DKI5 (Kebon Jeruk) Jakarta Barat   53   75  25  15  23  44  75     PM25   \n",
       "154  DKI5 (Kebon Jeruk) Jakarta Barat   60   87  28  19  30  53  87     PM25   \n",
       "\n",
       "    categori  \n",
       "0       BAIK  \n",
       "1       BAIK  \n",
       "2       BAIK  \n",
       "3       BAIK  \n",
       "4       BAIK  \n",
       "..       ...  \n",
       "150     BAIK  \n",
       "151     BAIK  \n",
       "152     BAIK  \n",
       "153     BAIK  \n",
       "154     BAIK  \n",
       "\n",
       "[1825 rows x 10 columns]"
      ]
     },
     "execution_count": 312,
     "metadata": {},
     "output_type": "execute_result"
    }
   ],
   "source": [
    "dataset = dataset.drop(['tanggal'], axis=1)\n",
    "dataset"
   ]
  },
  {
   "attachments": {},
   "cell_type": "markdown",
   "metadata": {},
   "source": [
    "#### Label encoder"
   ]
  },
  {
   "attachments": {},
   "cell_type": "markdown",
   "metadata": {},
   "source": [
    "Agar lebih optimal dalam balancing data menggunakan oversampler dan pada saat pemodelan, data kategori lebih baik diubah menjadi angka "
   ]
  },
  {
   "cell_type": "code",
   "execution_count": 313,
   "metadata": {},
   "outputs": [
    {
     "data": {
      "text/html": [
       "<div>\n",
       "<style scoped>\n",
       "    .dataframe tbody tr th:only-of-type {\n",
       "        vertical-align: middle;\n",
       "    }\n",
       "\n",
       "    .dataframe tbody tr th {\n",
       "        vertical-align: top;\n",
       "    }\n",
       "\n",
       "    .dataframe thead th {\n",
       "        text-align: right;\n",
       "    }\n",
       "</style>\n",
       "<table border=\"1\" class=\"dataframe\">\n",
       "  <thead>\n",
       "    <tr style=\"text-align: right;\">\n",
       "      <th></th>\n",
       "      <th>stasiun</th>\n",
       "      <th>pm10</th>\n",
       "      <th>pm25</th>\n",
       "      <th>so2</th>\n",
       "      <th>co</th>\n",
       "      <th>o3</th>\n",
       "      <th>no2</th>\n",
       "      <th>max</th>\n",
       "      <th>critical</th>\n",
       "      <th>categori</th>\n",
       "    </tr>\n",
       "  </thead>\n",
       "  <tbody>\n",
       "    <tr>\n",
       "      <th>0</th>\n",
       "      <td>0</td>\n",
       "      <td>38</td>\n",
       "      <td>53</td>\n",
       "      <td>29</td>\n",
       "      <td>6</td>\n",
       "      <td>31</td>\n",
       "      <td>13</td>\n",
       "      <td>53</td>\n",
       "      <td>4</td>\n",
       "      <td>1</td>\n",
       "    </tr>\n",
       "    <tr>\n",
       "      <th>1</th>\n",
       "      <td>0</td>\n",
       "      <td>27</td>\n",
       "      <td>46</td>\n",
       "      <td>27</td>\n",
       "      <td>7</td>\n",
       "      <td>47</td>\n",
       "      <td>7</td>\n",
       "      <td>47</td>\n",
       "      <td>2</td>\n",
       "      <td>1</td>\n",
       "    </tr>\n",
       "    <tr>\n",
       "      <th>2</th>\n",
       "      <td>0</td>\n",
       "      <td>44</td>\n",
       "      <td>58</td>\n",
       "      <td>25</td>\n",
       "      <td>7</td>\n",
       "      <td>40</td>\n",
       "      <td>13</td>\n",
       "      <td>58</td>\n",
       "      <td>4</td>\n",
       "      <td>1</td>\n",
       "    </tr>\n",
       "    <tr>\n",
       "      <th>3</th>\n",
       "      <td>0</td>\n",
       "      <td>30</td>\n",
       "      <td>48</td>\n",
       "      <td>24</td>\n",
       "      <td>4</td>\n",
       "      <td>32</td>\n",
       "      <td>7</td>\n",
       "      <td>48</td>\n",
       "      <td>4</td>\n",
       "      <td>1</td>\n",
       "    </tr>\n",
       "    <tr>\n",
       "      <th>4</th>\n",
       "      <td>0</td>\n",
       "      <td>38</td>\n",
       "      <td>53</td>\n",
       "      <td>24</td>\n",
       "      <td>6</td>\n",
       "      <td>31</td>\n",
       "      <td>9</td>\n",
       "      <td>53</td>\n",
       "      <td>4</td>\n",
       "      <td>1</td>\n",
       "    </tr>\n",
       "    <tr>\n",
       "      <th>...</th>\n",
       "      <td>...</td>\n",
       "      <td>...</td>\n",
       "      <td>...</td>\n",
       "      <td>...</td>\n",
       "      <td>...</td>\n",
       "      <td>...</td>\n",
       "      <td>...</td>\n",
       "      <td>...</td>\n",
       "      <td>...</td>\n",
       "      <td>...</td>\n",
       "    </tr>\n",
       "    <tr>\n",
       "      <th>150</th>\n",
       "      <td>4</td>\n",
       "      <td>54</td>\n",
       "      <td>76</td>\n",
       "      <td>36</td>\n",
       "      <td>14</td>\n",
       "      <td>21</td>\n",
       "      <td>47</td>\n",
       "      <td>76</td>\n",
       "      <td>4</td>\n",
       "      <td>1</td>\n",
       "    </tr>\n",
       "    <tr>\n",
       "      <th>151</th>\n",
       "      <td>4</td>\n",
       "      <td>44</td>\n",
       "      <td>68</td>\n",
       "      <td>20</td>\n",
       "      <td>11</td>\n",
       "      <td>21</td>\n",
       "      <td>33</td>\n",
       "      <td>68</td>\n",
       "      <td>4</td>\n",
       "      <td>1</td>\n",
       "    </tr>\n",
       "    <tr>\n",
       "      <th>152</th>\n",
       "      <td>4</td>\n",
       "      <td>34</td>\n",
       "      <td>54</td>\n",
       "      <td>28</td>\n",
       "      <td>8</td>\n",
       "      <td>25</td>\n",
       "      <td>29</td>\n",
       "      <td>54</td>\n",
       "      <td>4</td>\n",
       "      <td>1</td>\n",
       "    </tr>\n",
       "    <tr>\n",
       "      <th>153</th>\n",
       "      <td>4</td>\n",
       "      <td>53</td>\n",
       "      <td>75</td>\n",
       "      <td>25</td>\n",
       "      <td>15</td>\n",
       "      <td>23</td>\n",
       "      <td>44</td>\n",
       "      <td>75</td>\n",
       "      <td>4</td>\n",
       "      <td>1</td>\n",
       "    </tr>\n",
       "    <tr>\n",
       "      <th>154</th>\n",
       "      <td>4</td>\n",
       "      <td>60</td>\n",
       "      <td>87</td>\n",
       "      <td>28</td>\n",
       "      <td>19</td>\n",
       "      <td>30</td>\n",
       "      <td>53</td>\n",
       "      <td>87</td>\n",
       "      <td>4</td>\n",
       "      <td>1</td>\n",
       "    </tr>\n",
       "  </tbody>\n",
       "</table>\n",
       "<p>1825 rows × 10 columns</p>\n",
       "</div>"
      ],
      "text/plain": [
       "     stasiun pm10 pm25 so2  co  o3 no2 max  critical categori\n",
       "0          0   38   53  29   6  31  13  53         4        1\n",
       "1          0   27   46  27   7  47   7  47         2        1\n",
       "2          0   44   58  25   7  40  13  58         4        1\n",
       "3          0   30   48  24   4  32   7  48         4        1\n",
       "4          0   38   53  24   6  31   9  53         4        1\n",
       "..       ...  ...  ...  ..  ..  ..  ..  ..       ...      ...\n",
       "150        4   54   76  36  14  21  47  76         4        1\n",
       "151        4   44   68  20  11  21  33  68         4        1\n",
       "152        4   34   54  28   8  25  29  54         4        1\n",
       "153        4   53   75  25  15  23  44  75         4        1\n",
       "154        4   60   87  28  19  30  53  87         4        1\n",
       "\n",
       "[1825 rows x 10 columns]"
      ]
     },
     "execution_count": 313,
     "metadata": {},
     "output_type": "execute_result"
    }
   ],
   "source": [
    "label_encoder = preprocessing.LabelEncoder()\n",
    "\n",
    "#kolom stasiun\n",
    "dataset['stasiun']= label_encoder.fit_transform(dataset['stasiun'])\n",
    "\n",
    "#kolom critical\n",
    "dataset['critical']= label_encoder.fit_transform(dataset['critical'])\n",
    "\n",
    "#kolom categori\n",
    "dataset['categori'] = dataset['categori'].replace(['BAIK', 'TIDAK SEHAT'],[1, 0])\n",
    "\n",
    "dataset"
   ]
  },
  {
   "attachments": {},
   "cell_type": "markdown",
   "metadata": {},
   "source": [
    "#### Data Cleansing"
   ]
  },
  {
   "attachments": {},
   "cell_type": "markdown",
   "metadata": {},
   "source": [
    "##### Remove missing value"
   ]
  },
  {
   "cell_type": "code",
   "execution_count": 314,
   "metadata": {},
   "outputs": [
    {
     "data": {
      "image/png": "[encoded data removed]",
      "text/plain": [
       "<Figure size 1000x600 with 1 Axes>"
      ]
     },
     "metadata": {},
     "output_type": "display_data"
    }
   ],
   "source": [
    "#definisikan nilai missing yang kemungkinan terjadi\n",
    "missing_values = ['', ' ', 'NaN', 'Nan', 'nan', '.', ',','---']\n",
    "col_names = list(dataset.columns)\n",
    "dataset[col_names] = dataset[col_names].replace(missing_values, np.nan)\n",
    "\n",
    "# Count the missing values in each column\n",
    "missing_values = dataset.isnull().sum()\n",
    "missing_values = pd.DataFrame(missing_values, columns=['count'])\n",
    "missing_values.reset_index(inplace=True)\n",
    "#set frame\n",
    "plt.figure(figsize=(10, 6)) \n",
    "ax = sns.barplot(x='index', y='count', data=missing_values)\n",
    "plt.bar_label(ax.containers[0])\n",
    "\n",
    "# Set labels and title\n",
    "plt.xlabel('Columns')\n",
    "plt.ylabel('Values')\n",
    "plt.title('Bar Chart with Missing Values')\n",
    "\n",
    "# Show the plot\n",
    "plt.show()"
   ]
  },
  {
   "attachments": {},
   "cell_type": "markdown",
   "metadata": {},
   "source": [
    "Untuk memastikan keorisinilan data, data yang missing akan dihapus, tidak dilakukan imputasi"
   ]
  },
  {
   "cell_type": "code",
   "execution_count": 315,
   "metadata": {},
   "outputs": [
    {
     "data": {
      "text/plain": [
       "stasiun     0\n",
       "pm10        0\n",
       "pm25        0\n",
       "so2         0\n",
       "co          0\n",
       "o3          0\n",
       "no2         0\n",
       "max         0\n",
       "critical    0\n",
       "categori    0\n",
       "dtype: int64"
      ]
     },
     "execution_count": 315,
     "metadata": {},
     "output_type": "execute_result"
    }
   ],
   "source": [
    "#drop missing value\n",
    "dataset = dataset.dropna()\n",
    "dataset.isnull().sum()"
   ]
  },
  {
   "attachments": {},
   "cell_type": "markdown",
   "metadata": {},
   "source": [
    "##### Balancing data"
   ]
  },
  {
   "attachments": {},
   "cell_type": "markdown",
   "metadata": {},
   "source": [
    "Perlu diketahui juga bahwa untuk balancing data bisa menggunakan 3 metode, yaitu udersampling(kategori yang paling banyak akan disamakan dengan cara menurunkan jumlah datanya sebanyak kategori yang paling sedikit), oversampling(kategori yang paling sedikit akan disamakan dengan cara menambahkan jumlah datanya sebanyak kategori yang paling banyak) dan SMOTE (mirip seperti oversapling, namun dalam penambahan datanya mirip cara kerja KNN, yaitu akan mengambil sample acak, lalu akan dipilih tetangga terdekat). Teknik balancing data seperti oversampling dan SMOTE tidak serta merta membuat data langsung balace dengan bertambahnya data, kemungkinan terdapat data yang duplikat, sehingga perlu dicek duplikasi datanya. Teknik balancing ini umumnya untuk membantu mengurangi ketidakseimbangan data yang cukup signifikan."
   ]
  },
  {
   "cell_type": "code",
   "execution_count": 316,
   "metadata": {},
   "outputs": [
    {
     "data": {
      "text/plain": [
       "[Text(0, 0, '245'), Text(0, 0, '1272')]"
      ]
     },
     "execution_count": 316,
     "metadata": {},
     "output_type": "execute_result"
    },
    {
     "data": {
      "image/png": "[encoded data removed]",
      "text/plain": [
       "<Figure size 640x480 with 1 Axes>"
      ]
     },
     "metadata": {},
     "output_type": "display_data"
    }
   ],
   "source": [
    "# Check distribution of our label data\n",
    "ax = sns.countplot(data = dataset, x = \"categori\", label = dataset[\"categori\"].unique())\n",
    "ax.bar_label(ax.containers[0])"
   ]
  },
  {
   "cell_type": "code",
   "execution_count": 317,
   "metadata": {},
   "outputs": [
    {
     "data": {
      "text/html": [
       "<div>\n",
       "<style scoped>\n",
       "    .dataframe tbody tr th:only-of-type {\n",
       "        vertical-align: middle;\n",
       "    }\n",
       "\n",
       "    .dataframe tbody tr th {\n",
       "        vertical-align: top;\n",
       "    }\n",
       "\n",
       "    .dataframe thead th {\n",
       "        text-align: right;\n",
       "    }\n",
       "</style>\n",
       "<table border=\"1\" class=\"dataframe\">\n",
       "  <thead>\n",
       "    <tr style=\"text-align: right;\">\n",
       "      <th></th>\n",
       "      <th>stasiun</th>\n",
       "      <th>pm10</th>\n",
       "      <th>pm25</th>\n",
       "      <th>so2</th>\n",
       "      <th>co</th>\n",
       "      <th>o3</th>\n",
       "      <th>no2</th>\n",
       "      <th>max</th>\n",
       "      <th>critical</th>\n",
       "      <th>categori</th>\n",
       "    </tr>\n",
       "  </thead>\n",
       "  <tbody>\n",
       "    <tr>\n",
       "      <th>0</th>\n",
       "      <td>0</td>\n",
       "      <td>38</td>\n",
       "      <td>53</td>\n",
       "      <td>29</td>\n",
       "      <td>6</td>\n",
       "      <td>31</td>\n",
       "      <td>13</td>\n",
       "      <td>53</td>\n",
       "      <td>4</td>\n",
       "      <td>1</td>\n",
       "    </tr>\n",
       "    <tr>\n",
       "      <th>1</th>\n",
       "      <td>0</td>\n",
       "      <td>27</td>\n",
       "      <td>46</td>\n",
       "      <td>27</td>\n",
       "      <td>7</td>\n",
       "      <td>47</td>\n",
       "      <td>7</td>\n",
       "      <td>47</td>\n",
       "      <td>2</td>\n",
       "      <td>1</td>\n",
       "    </tr>\n",
       "    <tr>\n",
       "      <th>2</th>\n",
       "      <td>0</td>\n",
       "      <td>44</td>\n",
       "      <td>58</td>\n",
       "      <td>25</td>\n",
       "      <td>7</td>\n",
       "      <td>40</td>\n",
       "      <td>13</td>\n",
       "      <td>58</td>\n",
       "      <td>4</td>\n",
       "      <td>1</td>\n",
       "    </tr>\n",
       "    <tr>\n",
       "      <th>3</th>\n",
       "      <td>0</td>\n",
       "      <td>30</td>\n",
       "      <td>48</td>\n",
       "      <td>24</td>\n",
       "      <td>4</td>\n",
       "      <td>32</td>\n",
       "      <td>7</td>\n",
       "      <td>48</td>\n",
       "      <td>4</td>\n",
       "      <td>1</td>\n",
       "    </tr>\n",
       "    <tr>\n",
       "      <th>4</th>\n",
       "      <td>0</td>\n",
       "      <td>38</td>\n",
       "      <td>53</td>\n",
       "      <td>24</td>\n",
       "      <td>6</td>\n",
       "      <td>31</td>\n",
       "      <td>9</td>\n",
       "      <td>53</td>\n",
       "      <td>4</td>\n",
       "      <td>1</td>\n",
       "    </tr>\n",
       "    <tr>\n",
       "      <th>...</th>\n",
       "      <td>...</td>\n",
       "      <td>...</td>\n",
       "      <td>...</td>\n",
       "      <td>...</td>\n",
       "      <td>...</td>\n",
       "      <td>...</td>\n",
       "      <td>...</td>\n",
       "      <td>...</td>\n",
       "      <td>...</td>\n",
       "      <td>...</td>\n",
       "    </tr>\n",
       "    <tr>\n",
       "      <th>2539</th>\n",
       "      <td>3</td>\n",
       "      <td>56</td>\n",
       "      <td>102</td>\n",
       "      <td>28</td>\n",
       "      <td>16</td>\n",
       "      <td>18</td>\n",
       "      <td>29</td>\n",
       "      <td>102</td>\n",
       "      <td>4</td>\n",
       "      <td>0</td>\n",
       "    </tr>\n",
       "    <tr>\n",
       "      <th>2540</th>\n",
       "      <td>3</td>\n",
       "      <td>58</td>\n",
       "      <td>103</td>\n",
       "      <td>40</td>\n",
       "      <td>8</td>\n",
       "      <td>25</td>\n",
       "      <td>20</td>\n",
       "      <td>103</td>\n",
       "      <td>4</td>\n",
       "      <td>0</td>\n",
       "    </tr>\n",
       "    <tr>\n",
       "      <th>2541</th>\n",
       "      <td>3</td>\n",
       "      <td>73</td>\n",
       "      <td>137</td>\n",
       "      <td>35</td>\n",
       "      <td>10</td>\n",
       "      <td>29</td>\n",
       "      <td>20</td>\n",
       "      <td>137</td>\n",
       "      <td>4</td>\n",
       "      <td>0</td>\n",
       "    </tr>\n",
       "    <tr>\n",
       "      <th>2542</th>\n",
       "      <td>0</td>\n",
       "      <td>68</td>\n",
       "      <td>102</td>\n",
       "      <td>26</td>\n",
       "      <td>14</td>\n",
       "      <td>27</td>\n",
       "      <td>19</td>\n",
       "      <td>102</td>\n",
       "      <td>4</td>\n",
       "      <td>0</td>\n",
       "    </tr>\n",
       "    <tr>\n",
       "      <th>2543</th>\n",
       "      <td>3</td>\n",
       "      <td>80</td>\n",
       "      <td>148</td>\n",
       "      <td>38</td>\n",
       "      <td>13</td>\n",
       "      <td>26</td>\n",
       "      <td>21</td>\n",
       "      <td>148</td>\n",
       "      <td>4</td>\n",
       "      <td>0</td>\n",
       "    </tr>\n",
       "  </tbody>\n",
       "</table>\n",
       "<p>2544 rows × 10 columns</p>\n",
       "</div>"
      ],
      "text/plain": [
       "      stasiun  pm10  pm25  so2  co  o3  no2  max  critical  categori\n",
       "0           0    38    53   29   6  31   13   53         4         1\n",
       "1           0    27    46   27   7  47    7   47         2         1\n",
       "2           0    44    58   25   7  40   13   58         4         1\n",
       "3           0    30    48   24   4  32    7   48         4         1\n",
       "4           0    38    53   24   6  31    9   53         4         1\n",
       "...       ...   ...   ...  ...  ..  ..  ...  ...       ...       ...\n",
       "2539        3    56   102   28  16  18   29  102         4         0\n",
       "2540        3    58   103   40   8  25   20  103         4         0\n",
       "2541        3    73   137   35  10  29   20  137         4         0\n",
       "2542        0    68   102   26  14  27   19  102         4         0\n",
       "2543        3    80   148   38  13  26   21  148         4         0\n",
       "\n",
       "[2544 rows x 10 columns]"
      ]
     },
     "execution_count": 317,
     "metadata": {},
     "output_type": "execute_result"
    }
   ],
   "source": [
    "#replace type data object to int\n",
    "dataset = dataset.astype(int)\n",
    "\n",
    "#smote\n",
    "sm = SMOTE(random_state = 42)\n",
    "X_res, y_res = sm.fit_resample(dataset.iloc[:,:-1], dataset.iloc[:,-1:])\n",
    "dataset = pd.concat([X_res, y_res], axis=1)\n",
    "dataset.duplicated().sum()\n",
    "dataset"
   ]
  },
  {
   "cell_type": "code",
   "execution_count": 318,
   "metadata": {},
   "outputs": [
    {
     "data": {
      "text/plain": [
       "[Text(0, 0, '1272'), Text(0, 0, '1272')]"
      ]
     },
     "execution_count": 318,
     "metadata": {},
     "output_type": "execute_result"
    },
    {
     "data": {
      "image/png": "[encoded data removed]",
      "text/plain": [
       "<Figure size 640x480 with 1 Axes>"
      ]
     },
     "metadata": {},
     "output_type": "display_data"
    }
   ],
   "source": [
    "# Check distribution of our label data\n",
    "ax = sns.countplot(data = dataset, x = \"categori\", label = dataset[\"categori\"].unique())\n",
    "ax.bar_label(ax.containers[0])"
   ]
  },
  {
   "attachments": {},
   "cell_type": "markdown",
   "metadata": {},
   "source": [
    "##### Check duplicate data"
   ]
  },
  {
   "cell_type": "code",
   "execution_count": 319,
   "metadata": {},
   "outputs": [
    {
     "data": {
      "text/plain": [
       "[Text(0, 0, '105'), Text(0, 0, '0')]"
      ]
     },
     "execution_count": 319,
     "metadata": {},
     "output_type": "execute_result"
    },
    {
     "data": {
      "image/png": "[encoded data removed]",
      "text/plain": [
       "<Figure size 1000x600 with 1 Axes>"
      ]
     },
     "metadata": {},
     "output_type": "display_data"
    }
   ],
   "source": [
    "sebelum = dataset.duplicated().sum()\n",
    "dataset = dataset.drop_duplicates()\n",
    "sesudah = dataset.duplicated().sum()\n",
    "\n",
    "drop_dup = {\n",
    "    'Drop Data Duplicate': ['Sebelum', 'Sesudah'],\n",
    "    'Values': [sebelum,sesudah],\n",
    "}\n",
    "\n",
    "# Create a DataFrame from the dictionary\n",
    "drop_dup = pd.DataFrame(drop_dup)\n",
    "\n",
    "#set frame\n",
    "plt.figure(figsize=(10, 6)) \n",
    "ax = sns.barplot(x='Drop Data Duplicate', y='Values', data=drop_dup)\n",
    "plt.bar_label(ax.containers[0])"
   ]
  },
  {
   "cell_type": "code",
   "execution_count": 320,
   "metadata": {},
   "outputs": [
    {
     "data": {
      "text/plain": [
       "[Text(0, 0, '1167'), Text(0, 0, '1272')]"
      ]
     },
     "execution_count": 320,
     "metadata": {},
     "output_type": "execute_result"
    },
    {
     "data": {
      "image/png": "[encoded data removed]",
      "text/plain": [
       "<Figure size 640x480 with 1 Axes>"
      ]
     },
     "metadata": {},
     "output_type": "display_data"
    }
   ],
   "source": [
    "# Check distribution of our label data\n",
    "ax = sns.countplot(data = dataset, x = \"categori\", label = dataset[\"categori\"].unique())\n",
    "ax.bar_label(ax.containers[0])"
   ]
  },
  {
   "attachments": {},
   "cell_type": "markdown",
   "metadata": {},
   "source": [
    "#### Model"
   ]
  },
  {
   "attachments": {},
   "cell_type": "markdown",
   "metadata": {},
   "source": [
    "##### Spliting data"
   ]
  },
  {
   "cell_type": "code",
   "execution_count": 321,
   "metadata": {},
   "outputs": [],
   "source": [
    "X = dataset.iloc[:,:-1]\n",
    "y = dataset.iloc[:,-1:]"
   ]
  },
  {
   "cell_type": "code",
   "execution_count": 322,
   "metadata": {},
   "outputs": [],
   "source": [
    "#spliting data training and testing\n",
    "x_train, x_test, y_train, y_test = train_test_split(X, y, test_size = 0.1, random_state = 42, stratify = y)\n",
    "\n",
    "#spliting data training and validation\n",
    "x_train, x_val, y_train, y_val = train_test_split(x_train, y_train, test_size = 0.3, random_state = 42, stratify = y_train)\n"
   ]
  },
  {
   "cell_type": "code",
   "execution_count": 323,
   "metadata": {},
   "outputs": [
    {
     "data": {
      "image/png": "[encoded data removed]",
      "text/plain": [
       "<Figure size 1000x600 with 1 Axes>"
      ]
     },
     "metadata": {},
     "output_type": "display_data"
    }
   ],
   "source": [
    "data_split = {\n",
    "    'Spliting_Data': ['Training', 'Validation', 'Testing'],\n",
    "    'Values': [len(x_train),len(x_val),len(x_test)],\n",
    "}\n",
    "\n",
    "# Create a DataFrame from the dictionary\n",
    "data_split = pd.DataFrame(data_split)\n",
    "\n",
    "#set frame\n",
    "plt.figure(figsize=(10, 6)) \n",
    "ax = sns.barplot(x='Spliting_Data', y='Values', data=data_split)\n",
    "plt.bar_label(ax.containers[0])\n",
    "\n",
    "# Show the plot\n",
    "plt.show()\n"
   ]
  },
  {
   "attachments": {},
   "cell_type": "markdown",
   "metadata": {},
   "source": [
    "## Metode"
   ]
  },
  {
   "attachments": {
    "image-2.png": {
     "image/png": "[encoded data removed]"
    },
    "image.png": {
     "image/png": "[encoded data removed]"
    }
   },
   "cell_type": "markdown",
   "metadata": {},
   "source": [
    "Metode yang digunakan adalah KNN:\n",
    "\n",
    "![image.png](attachment:image.png)\n",
    "\n",
    "KNN(K-Nearst Neigbors) merupakan salah satu algoritma machine learning yang memiliki cara kerja mengambil nilai rata-rata jarak (nilai K) tetangga terdekat. Misal suatu suatu data akan mengambil 5 data terdekat (nilai K), maka data tersebut akan menghitung jarak seluruh data yang ada, lalu dipilih 5 tetangga terdekat, lalu hitung nilai setiap kategori dari tetangga 5 tetangga terdekat tersebut, selanjutnya akan dipilih kategori yang memilki nilai paling banyak. Untuk nilai K bisa diatur sedemikian rupa sesuai keinginan. Namun, agar tidak menhindari bias pada model, biasanya untuk nilai K disarankan harus bernilai ganjil. Dalam penghitungan jarak pada KNN, terdapat 2 metode, yaitu dengan euclidean distance dan manhattan distance. Euclidean distance akan menghitung antar 2 titik data secara garis lurus dengan theorema pythgoras. Sedangkan manhattan distance akan menghitung jarak antara dua titik dalam ruang dengan menghitung perbedaan absolut antara koordinat data. \n",
    "\n",
    "![image-2.png](attachment:image-2.png)\n",
    "\n",
    "Dalam penulis ini, penulis memilih algoritma KNN karena jumlah data yang digunakan tidaklah terlalu banyak, sehingga proses akan training akan lebih cepat. Karena kelemahan algoritma KNN sendiri yaitu KNN akan menghitung jarak satu-satu data training, semakin banyak data training akan semakin membutuhkan waktu yang sangat lama. "
   ]
  },
  {
   "attachments": {},
   "cell_type": "markdown",
   "metadata": {},
   "source": [
    "## Experiments/Result/Discussion"
   ]
  },
  {
   "attachments": {},
   "cell_type": "markdown",
   "metadata": {},
   "source": [
    "##### Experiments"
   ]
  },
  {
   "cell_type": "code",
   "execution_count": 324,
   "metadata": {},
   "outputs": [
    {
     "name": "stderr",
     "output_type": "stream",
     "text": [
      "/home/riyan/miniconda3/envs/mlprocess_venv1/lib/python3.8/site-packages/sklearn/neighbors/_classification.py:215: DataConversionWarning: A column-vector y was passed when a 1d array was expected. Please change the shape of y to (n_samples,), for example using ravel().\n",
      "  return self._fit(X, y)\n"
     ]
    },
    {
     "data": {
      "text/html": [
       "<style>#sk-container-id-11 {color: black;background-color: white;}#sk-container-id-11 pre{padding: 0;}#sk-container-id-11 div.sk-toggleable {background-color: white;}#sk-container-id-11 label.sk-toggleable__label {cursor: pointer;display: block;width: 100%;margin-bottom: 0;padding: 0.3em;box-sizing: border-box;text-align: center;}#sk-container-id-11 label.sk-toggleable__label-arrow:before {content: \"▸\";float: left;margin-right: 0.25em;color: #696969;}#sk-container-id-11 label.sk-toggleable__label-arrow:hover:before {color: black;}#sk-container-id-11 div.sk-estimator:hover label.sk-toggleable__label-arrow:before {color: black;}#sk-container-id-11 div.sk-toggleable__content {max-height: 0;max-width: 0;overflow: hidden;text-align: left;background-color: #f0f8ff;}#sk-container-id-11 div.sk-toggleable__content pre {margin: 0.2em;color: black;border-radius: 0.25em;background-color: #f0f8ff;}#sk-container-id-11 input.sk-toggleable__control:checked~div.sk-toggleable__content {max-height: 200px;max-width: 100%;overflow: auto;}#sk-container-id-11 input.sk-toggleable__control:checked~label.sk-toggleable__label-arrow:before {content: \"▾\";}#sk-container-id-11 div.sk-estimator input.sk-toggleable__control:checked~label.sk-toggleable__label {background-color: #d4ebff;}#sk-container-id-11 div.sk-label input.sk-toggleable__control:checked~label.sk-toggleable__label {background-color: #d4ebff;}#sk-container-id-11 input.sk-hidden--visually {border: 0;clip: rect(1px 1px 1px 1px);clip: rect(1px, 1px, 1px, 1px);height: 1px;margin: -1px;overflow: hidden;padding: 0;position: absolute;width: 1px;}#sk-container-id-11 div.sk-estimator {font-family: monospace;background-color: #f0f8ff;border: 1px dotted black;border-radius: 0.25em;box-sizing: border-box;margin-bottom: 0.5em;}#sk-container-id-11 div.sk-estimator:hover {background-color: #d4ebff;}#sk-container-id-11 div.sk-parallel-item::after {content: \"\";width: 100%;border-bottom: 1px solid gray;flex-grow: 1;}#sk-container-id-11 div.sk-label:hover label.sk-toggleable__label {background-color: #d4ebff;}#sk-container-id-11 div.sk-serial::before {content: \"\";position: absolute;border-left: 1px solid gray;box-sizing: border-box;top: 0;bottom: 0;left: 50%;z-index: 0;}#sk-container-id-11 div.sk-serial {display: flex;flex-direction: column;align-items: center;background-color: white;padding-right: 0.2em;padding-left: 0.2em;position: relative;}#sk-container-id-11 div.sk-item {position: relative;z-index: 1;}#sk-container-id-11 div.sk-parallel {display: flex;align-items: stretch;justify-content: center;background-color: white;position: relative;}#sk-container-id-11 div.sk-item::before, #sk-container-id-11 div.sk-parallel-item::before {content: \"\";position: absolute;border-left: 1px solid gray;box-sizing: border-box;top: 0;bottom: 0;left: 50%;z-index: -1;}#sk-container-id-11 div.sk-parallel-item {display: flex;flex-direction: column;z-index: 1;position: relative;background-color: white;}#sk-container-id-11 div.sk-parallel-item:first-child::after {align-self: flex-end;width: 50%;}#sk-container-id-11 div.sk-parallel-item:last-child::after {align-self: flex-start;width: 50%;}#sk-container-id-11 div.sk-parallel-item:only-child::after {width: 0;}#sk-container-id-11 div.sk-dashed-wrapped {border: 1px dashed gray;margin: 0 0.4em 0.5em 0.4em;box-sizing: border-box;padding-bottom: 0.4em;background-color: white;}#sk-container-id-11 div.sk-label label {font-family: monospace;font-weight: bold;display: inline-block;line-height: 1.2em;}#sk-container-id-11 div.sk-label-container {text-align: center;}#sk-container-id-11 div.sk-container {/* jupyter's `normalize.less` sets `[hidden] { display: none; }` but bootstrap.min.css set `[hidden] { display: none !important; }` so we also need the `!important` here to be able to override the default hidden behavior on the sphinx rendered scikit-learn.org. See: https://github.com/scikit-learn/scikit-learn/issues/21755 */display: inline-block !important;position: relative;}#sk-container-id-11 div.sk-text-repr-fallback {display: none;}</style><div id=\"sk-container-id-11\" class=\"sk-top-container\"><div class=\"sk-text-repr-fallback\"><pre>KNeighborsClassifier(n_neighbors=1)</pre><b>In a Jupyter environment, please rerun this cell to show the HTML representation or trust the notebook. <br />On GitHub, the HTML representation is unable to render, please try loading this page with nbviewer.org.</b></div><div class=\"sk-container\" hidden><div class=\"sk-item\"><div class=\"sk-estimator sk-toggleable\"><input class=\"sk-toggleable__control sk-hidden--visually\" id=\"sk-estimator-id-11\" type=\"checkbox\" checked><label for=\"sk-estimator-id-11\" class=\"sk-toggleable__label sk-toggleable__label-arrow\">KNeighborsClassifier</label><div class=\"sk-toggleable__content\"><pre>KNeighborsClassifier(n_neighbors=1)</pre></div></div></div></div></div>"
      ],
      "text/plain": [
       "KNeighborsClassifier(n_neighbors=1)"
      ]
     },
     "execution_count": 324,
     "metadata": {},
     "output_type": "execute_result"
    }
   ],
   "source": [
    "knn = KNeighborsClassifier(n_neighbors=1)\n",
    "knn.fit(x_train, y_train)"
   ]
  },
  {
   "attachments": {},
   "cell_type": "markdown",
   "metadata": {},
   "source": [
    "##### Result"
   ]
  },
  {
   "attachments": {},
   "cell_type": "markdown",
   "metadata": {},
   "source": [
    "###### Evaluation data validation"
   ]
  },
  {
   "cell_type": "code",
   "execution_count": 325,
   "metadata": {},
   "outputs": [
    {
     "name": "stdout",
     "output_type": "stream",
     "text": [
      "Accuracy: 0.9833080424886191\n",
      "Precision: 0.9940652818991098\n",
      "Recall: 0.9738372093023255\n",
      "F1 score: 0.9838472834067548\n"
     ]
    },
    {
     "data": {
      "text/plain": [
       "[Text(0, 0, '0.983308'),\n",
       " Text(0, 0, '0.994065'),\n",
       " Text(0, 0, '0.973837'),\n",
       " Text(0, 0, '0.983847')]"
      ]
     },
     "execution_count": 325,
     "metadata": {},
     "output_type": "execute_result"
    },
    {
     "data": {
      "image/png": "[encoded data removed]",
      "text/plain": [
       "<Figure size 1000x600 with 1 Axes>"
      ]
     },
     "metadata": {},
     "output_type": "display_data"
    }
   ],
   "source": [
    "# Calculating accuracy\n",
    "y_pred_val = knn.predict(x_val)\n",
    "\n",
    "#\n",
    "accuracy = accuracy_score(y_val, y_pred_val)\n",
    "print(\"Accuracy:\", accuracy)\n",
    "\n",
    "# Calculating precision\n",
    "precision = precision_score(y_val, y_pred_val)\n",
    "print(\"Precision:\", precision)\n",
    "\n",
    "# Calculating recall\n",
    "recall = recall_score(y_val, y_pred_val)\n",
    "print(\"Recall:\", recall)\n",
    "\n",
    "# Calculating F1 score\n",
    "f1 = f1_score(y_val, y_pred_val)\n",
    "print(\"F1 score:\", f1)\n",
    "\n",
    "eval_val = {\n",
    "    'Evaluation Data Validation': ['Accuracy', 'Precision', 'Recall','F1'],\n",
    "    'Values': [accuracy,precision,recall,f1],\n",
    "}\n",
    "\n",
    "# Create a DataFrame from the dictionary\n",
    "eval_val = pd.DataFrame(eval_val)\n",
    "\n",
    "#set frame\n",
    "plt.figure(figsize=(10, 6)) \n",
    "ax = sns.barplot(x='Evaluation Data Validation', y='Values', data=eval_val)\n",
    "plt.bar_label(ax.containers[0])"
   ]
  },
  {
   "cell_type": "code",
   "execution_count": 326,
   "metadata": {},
   "outputs": [
    {
     "name": "stdout",
     "output_type": "stream",
     "text": [
      "              precision    recall  f1-score   support\n",
      "\n",
      "           0       0.97      0.99      0.98       315\n",
      "           1       0.99      0.97      0.98       344\n",
      "\n",
      "    accuracy                           0.98       659\n",
      "   macro avg       0.98      0.98      0.98       659\n",
      "weighted avg       0.98      0.98      0.98       659\n",
      "\n"
     ]
    }
   ],
   "source": [
    "#sification_report\n",
    "print(classification_report(y_val, y_pred_val))"
   ]
  },
  {
   "cell_type": "code",
   "execution_count": 327,
   "metadata": {},
   "outputs": [
    {
     "data": {
      "image/png": "[encoded data removed]",
      "text/plain": [
       "<Figure size 640x480 with 2 Axes>"
      ]
     },
     "metadata": {},
     "output_type": "display_data"
    }
   ],
   "source": [
    "# Create confusion matrix\n",
    "cm_val = confusion_matrix(y_val, y_pred_val)\n",
    "\n",
    "# Plot confusion matrix\n",
    "sns.heatmap(cm_val, annot=True, fmt=\"d\", cmap=plt.cm.Reds)\n",
    "\n",
    "# Set labels, title, and ticks\n",
    "plt.title(\"Confusion Matrix\")\n",
    "plt.xlabel(\"Predicted Labels\")\n",
    "plt.ylabel(\"True Labels\")\n",
    "plt.show()"
   ]
  },
  {
   "attachments": {},
   "cell_type": "markdown",
   "metadata": {},
   "source": [
    "###### Evaluation Data training"
   ]
  },
  {
   "cell_type": "code",
   "execution_count": 328,
   "metadata": {},
   "outputs": [
    {
     "name": "stdout",
     "output_type": "stream",
     "text": [
      "Accuracy: 1.0\n",
      "Precision: 1.0\n",
      "Recall: 1.0\n",
      "F1 score: 1.0\n"
     ]
    },
    {
     "data": {
      "image/png": "[encoded data removed]",
      "text/plain": [
       "<Figure size 1000x600 with 1 Axes>"
      ]
     },
     "metadata": {},
     "output_type": "display_data"
    }
   ],
   "source": [
    "# Calculating accuracy\n",
    "y_pred_train = knn.predict(x_train)\n",
    "\n",
    "#\n",
    "accuracy = accuracy_score(y_train, y_pred_train)\n",
    "print(\"Accuracy:\", accuracy)\n",
    "\n",
    "# Calculating precision\n",
    "precision = precision_score(y_train, y_pred_train)\n",
    "print(\"Precision:\", precision)\n",
    "\n",
    "# Calculating recall\n",
    "recall = recall_score(y_train, y_pred_train)\n",
    "print(\"Recall:\", recall)\n",
    "\n",
    "# Calculating F1 score\n",
    "f1 = f1_score(y_train, y_pred_train)\n",
    "print(\"F1 score:\", f1)\n",
    "\n",
    "eval_train = {\n",
    "    'Evaluation Data Training': ['Accuracy', 'Precision', 'Recall','F1'],\n",
    "    'Values': [accuracy,precision,recall,f1],\n",
    "}\n",
    "\n",
    "# Create a DataFrame from the dictionary\n",
    "eval_train = pd.DataFrame(eval_train)\n",
    "\n",
    "#set frame\n",
    "plt.figure(figsize=(10, 6)) \n",
    "ax = sns.barplot(x='Evaluation Data Training', y='Values', data=eval_train)\n",
    "plt.bar_label(ax.containers[0])\n",
    "\n",
    "# Show the plot\n",
    "plt.show()"
   ]
  },
  {
   "cell_type": "code",
   "execution_count": 329,
   "metadata": {},
   "outputs": [
    {
     "name": "stdout",
     "output_type": "stream",
     "text": [
      "              precision    recall  f1-score   support\n",
      "\n",
      "           0       1.00      1.00      1.00       735\n",
      "           1       1.00      1.00      1.00       801\n",
      "\n",
      "    accuracy                           1.00      1536\n",
      "   macro avg       1.00      1.00      1.00      1536\n",
      "weighted avg       1.00      1.00      1.00      1536\n",
      "\n"
     ]
    }
   ],
   "source": [
    "#sification_report\n",
    "print(classification_report(y_train, y_pred_train))"
   ]
  },
  {
   "cell_type": "code",
   "execution_count": 330,
   "metadata": {},
   "outputs": [
    {
     "data": {
      "image/png": "[encoded data removed]",
      "text/plain": [
       "<Figure size 640x480 with 2 Axes>"
      ]
     },
     "metadata": {},
     "output_type": "display_data"
    }
   ],
   "source": [
    "# Create confusion matrix\n",
    "cm_train = confusion_matrix(y_train, y_pred_train)\n",
    "\n",
    "# Plot confusion matrix\n",
    "sns.heatmap(cm_train, annot=True, fmt=\"d\", cmap=plt.cm.Reds)\n",
    "\n",
    "# Set labels, title, and ticks\n",
    "plt.title(\"Confusion Matrix\")\n",
    "plt.xlabel(\"Predicted Labels\")\n",
    "plt.ylabel(\"True Labels\")\n",
    "plt.show()"
   ]
  },
  {
   "cell_type": "code",
   "execution_count": 331,
   "metadata": {},
   "outputs": [
    {
     "data": {
      "text/html": [
       "<div>\n",
       "<style scoped>\n",
       "    .dataframe tbody tr th:only-of-type {\n",
       "        vertical-align: middle;\n",
       "    }\n",
       "\n",
       "    .dataframe tbody tr th {\n",
       "        vertical-align: top;\n",
       "    }\n",
       "\n",
       "    .dataframe thead th {\n",
       "        text-align: right;\n",
       "    }\n",
       "</style>\n",
       "<table border=\"1\" class=\"dataframe\">\n",
       "  <thead>\n",
       "    <tr style=\"text-align: right;\">\n",
       "      <th></th>\n",
       "      <th>stasiun</th>\n",
       "      <th>pm10</th>\n",
       "      <th>pm25</th>\n",
       "      <th>so2</th>\n",
       "      <th>co</th>\n",
       "      <th>o3</th>\n",
       "      <th>no2</th>\n",
       "      <th>max</th>\n",
       "      <th>critical</th>\n",
       "      <th>predict_categori</th>\n",
       "    </tr>\n",
       "  </thead>\n",
       "  <tbody>\n",
       "    <tr>\n",
       "      <th>2188</th>\n",
       "      <td>3</td>\n",
       "      <td>57</td>\n",
       "      <td>102</td>\n",
       "      <td>27</td>\n",
       "      <td>15</td>\n",
       "      <td>20</td>\n",
       "      <td>28</td>\n",
       "      <td>102</td>\n",
       "      <td>4</td>\n",
       "      <td>0</td>\n",
       "    </tr>\n",
       "    <tr>\n",
       "      <th>290</th>\n",
       "      <td>2</td>\n",
       "      <td>65</td>\n",
       "      <td>106</td>\n",
       "      <td>31</td>\n",
       "      <td>12</td>\n",
       "      <td>45</td>\n",
       "      <td>17</td>\n",
       "      <td>106</td>\n",
       "      <td>4</td>\n",
       "      <td>0</td>\n",
       "    </tr>\n",
       "    <tr>\n",
       "      <th>1278</th>\n",
       "      <td>0</td>\n",
       "      <td>55</td>\n",
       "      <td>72</td>\n",
       "      <td>30</td>\n",
       "      <td>13</td>\n",
       "      <td>22</td>\n",
       "      <td>40</td>\n",
       "      <td>72</td>\n",
       "      <td>4</td>\n",
       "      <td>1</td>\n",
       "    </tr>\n",
       "    <tr>\n",
       "      <th>1263</th>\n",
       "      <td>3</td>\n",
       "      <td>52</td>\n",
       "      <td>80</td>\n",
       "      <td>41</td>\n",
       "      <td>18</td>\n",
       "      <td>31</td>\n",
       "      <td>23</td>\n",
       "      <td>80</td>\n",
       "      <td>4</td>\n",
       "      <td>1</td>\n",
       "    </tr>\n",
       "    <tr>\n",
       "      <th>911</th>\n",
       "      <td>0</td>\n",
       "      <td>32</td>\n",
       "      <td>50</td>\n",
       "      <td>25</td>\n",
       "      <td>7</td>\n",
       "      <td>29</td>\n",
       "      <td>16</td>\n",
       "      <td>50</td>\n",
       "      <td>4</td>\n",
       "      <td>1</td>\n",
       "    </tr>\n",
       "    <tr>\n",
       "      <th>...</th>\n",
       "      <td>...</td>\n",
       "      <td>...</td>\n",
       "      <td>...</td>\n",
       "      <td>...</td>\n",
       "      <td>...</td>\n",
       "      <td>...</td>\n",
       "      <td>...</td>\n",
       "      <td>...</td>\n",
       "      <td>...</td>\n",
       "      <td>...</td>\n",
       "    </tr>\n",
       "    <tr>\n",
       "      <th>1589</th>\n",
       "      <td>2</td>\n",
       "      <td>72</td>\n",
       "      <td>108</td>\n",
       "      <td>48</td>\n",
       "      <td>11</td>\n",
       "      <td>29</td>\n",
       "      <td>15</td>\n",
       "      <td>108</td>\n",
       "      <td>4</td>\n",
       "      <td>0</td>\n",
       "    </tr>\n",
       "    <tr>\n",
       "      <th>1617</th>\n",
       "      <td>4</td>\n",
       "      <td>60</td>\n",
       "      <td>104</td>\n",
       "      <td>25</td>\n",
       "      <td>14</td>\n",
       "      <td>24</td>\n",
       "      <td>26</td>\n",
       "      <td>104</td>\n",
       "      <td>4</td>\n",
       "      <td>0</td>\n",
       "    </tr>\n",
       "    <tr>\n",
       "      <th>638</th>\n",
       "      <td>0</td>\n",
       "      <td>65</td>\n",
       "      <td>90</td>\n",
       "      <td>31</td>\n",
       "      <td>17</td>\n",
       "      <td>17</td>\n",
       "      <td>39</td>\n",
       "      <td>90</td>\n",
       "      <td>4</td>\n",
       "      <td>1</td>\n",
       "    </tr>\n",
       "    <tr>\n",
       "      <th>652</th>\n",
       "      <td>1</td>\n",
       "      <td>70</td>\n",
       "      <td>99</td>\n",
       "      <td>53</td>\n",
       "      <td>14</td>\n",
       "      <td>72</td>\n",
       "      <td>23</td>\n",
       "      <td>99</td>\n",
       "      <td>4</td>\n",
       "      <td>0</td>\n",
       "    </tr>\n",
       "    <tr>\n",
       "      <th>466</th>\n",
       "      <td>4</td>\n",
       "      <td>52</td>\n",
       "      <td>77</td>\n",
       "      <td>34</td>\n",
       "      <td>7</td>\n",
       "      <td>18</td>\n",
       "      <td>21</td>\n",
       "      <td>77</td>\n",
       "      <td>4</td>\n",
       "      <td>1</td>\n",
       "    </tr>\n",
       "  </tbody>\n",
       "</table>\n",
       "<p>244 rows × 10 columns</p>\n",
       "</div>"
      ],
      "text/plain": [
       "      stasiun  pm10  pm25  so2  co  o3  no2  max  critical  predict_categori\n",
       "2188        3    57   102   27  15  20   28  102         4                 0\n",
       "290         2    65   106   31  12  45   17  106         4                 0\n",
       "1278        0    55    72   30  13  22   40   72         4                 1\n",
       "1263        3    52    80   41  18  31   23   80         4                 1\n",
       "911         0    32    50   25   7  29   16   50         4                 1\n",
       "...       ...   ...   ...  ...  ..  ..  ...  ...       ...               ...\n",
       "1589        2    72   108   48  11  29   15  108         4                 0\n",
       "1617        4    60   104   25  14  24   26  104         4                 0\n",
       "638         0    65    90   31  17  17   39   90         4                 1\n",
       "652         1    70    99   53  14  72   23   99         4                 0\n",
       "466         4    52    77   34   7  18   21   77         4                 1\n",
       "\n",
       "[244 rows x 10 columns]"
      ]
     },
     "execution_count": 331,
     "metadata": {},
     "output_type": "execute_result"
    }
   ],
   "source": [
    "#predict data testing\n",
    "x_test[\"predict_categori\"] = knn.predict(x_test)\n",
    "x_test"
   ]
  },
  {
   "cell_type": "code",
   "execution_count": 332,
   "metadata": {},
   "outputs": [
    {
     "data": {
      "text/html": [
       "<div>\n",
       "<style scoped>\n",
       "    .dataframe tbody tr th:only-of-type {\n",
       "        vertical-align: middle;\n",
       "    }\n",
       "\n",
       "    .dataframe tbody tr th {\n",
       "        vertical-align: top;\n",
       "    }\n",
       "\n",
       "    .dataframe thead th {\n",
       "        text-align: right;\n",
       "    }\n",
       "</style>\n",
       "<table border=\"1\" class=\"dataframe\">\n",
       "  <thead>\n",
       "    <tr style=\"text-align: right;\">\n",
       "      <th></th>\n",
       "      <th>categori</th>\n",
       "    </tr>\n",
       "  </thead>\n",
       "  <tbody>\n",
       "    <tr>\n",
       "      <th>2188</th>\n",
       "      <td>0</td>\n",
       "    </tr>\n",
       "    <tr>\n",
       "      <th>290</th>\n",
       "      <td>0</td>\n",
       "    </tr>\n",
       "    <tr>\n",
       "      <th>1278</th>\n",
       "      <td>1</td>\n",
       "    </tr>\n",
       "    <tr>\n",
       "      <th>1263</th>\n",
       "      <td>1</td>\n",
       "    </tr>\n",
       "    <tr>\n",
       "      <th>911</th>\n",
       "      <td>1</td>\n",
       "    </tr>\n",
       "    <tr>\n",
       "      <th>...</th>\n",
       "      <td>...</td>\n",
       "    </tr>\n",
       "    <tr>\n",
       "      <th>1589</th>\n",
       "      <td>0</td>\n",
       "    </tr>\n",
       "    <tr>\n",
       "      <th>1617</th>\n",
       "      <td>0</td>\n",
       "    </tr>\n",
       "    <tr>\n",
       "      <th>638</th>\n",
       "      <td>1</td>\n",
       "    </tr>\n",
       "    <tr>\n",
       "      <th>652</th>\n",
       "      <td>1</td>\n",
       "    </tr>\n",
       "    <tr>\n",
       "      <th>466</th>\n",
       "      <td>1</td>\n",
       "    </tr>\n",
       "  </tbody>\n",
       "</table>\n",
       "<p>244 rows × 1 columns</p>\n",
       "</div>"
      ],
      "text/plain": [
       "      categori\n",
       "2188         0\n",
       "290          0\n",
       "1278         1\n",
       "1263         1\n",
       "911          1\n",
       "...        ...\n",
       "1589         0\n",
       "1617         0\n",
       "638          1\n",
       "652          1\n",
       "466          1\n",
       "\n",
       "[244 rows x 1 columns]"
      ]
     },
     "execution_count": 332,
     "metadata": {},
     "output_type": "execute_result"
    }
   ],
   "source": [
    "y_test"
   ]
  },
  {
   "attachments": {},
   "cell_type": "markdown",
   "metadata": {},
   "source": [
    "##### Discussion\n",
    "Berdasarkan hasil model di atas, sudah dilakukan pengujian untuk nilai K 1, 3, 5, dan 7. Namun semakin kecil nilai K hasil evaluasi mayoritas meningkat, sehingga dipilih K = 1. Selain itu model juga tidak mengalami overfiting karena hasil selisih evaluasi untuk data validation dan data training tidaklah terlalu signifikan. Model juga tidak mengalami underfiting karena mayoritas hasil evaluasi baik di data training dan data validation sudah mendekati 100 persen. Sehingga bisa dikatakan bahwa model tersebut sudah berhasil untuk memprediksi kondisi udara di Jakarta."
   ]
  },
  {
   "attachments": {},
   "cell_type": "markdown",
   "metadata": {},
   "source": [
    "## Conclusion/Future Work"
   ]
  },
  {
   "attachments": {},
   "cell_type": "markdown",
   "metadata": {},
   "source": [
    "### Conclusion \n",
    "Pengetahuan mengenai preprocessing data meruapakan hal yang sangat penting karena dapat mempengaruhi proses training model. Preprocessing data yang baik dan tepat sesuai kondisi data dapat meningkatkan performa model. Jumlah data juga sangat berpengaruh dalam proses training. Data yang digunakan dalam project ini relatif masih sedikit, namun kedepannya bisa menggunakan data yang lebih banyak lagi. Hasil evaluasi menunjukan bahwa performa terbaik berada di K = 1, setelah dilakukan percobaan nilai K dari {1,3,5,7}. Walaupun begitu model tersebut sudah relatif sangat baik karena mendekati 100% baik di data validation data training sehingga bisa untuk diimplementasikan ke tahap deployment."
   ]
  },
  {
   "attachments": {},
   "cell_type": "markdown",
   "metadata": {},
   "source": [
    "### Future Work\n",
    "Jika saya memilki waktu yang lebih, sudah memilki komputer yang super dalam menjalankan komputasi dan sudah ada rezeki saya akan mengikuti bootcamp mengenai computer vision, lebih mengarah ke deep learning. Saya akan mencoba bagaimana memproses data baik data gambar, suara, maapun video dan memodelkannya menjadi ke deep learning sampai ke tahap deployment"
   ]
  }
 ],
 "metadata": {
  "kernelspec": {
   "display_name": "Python 3 (ipykernel)",
   "language": "python",
   "name": "python3"
  },
  "language_info": {
   "codemirror_mode": {
    "name": "ipython",
    "version": 3
   },
   "file_extension": ".py",
   "mimetype": "text/x-python",
   "name": "python",
   "nbconvert_exporter": "python",
   "pygments_lexer": "ipython3",
   "version": "3.8.16"
  }
 },
 "nbformat": 4,
 "nbformat_minor": 4
}
